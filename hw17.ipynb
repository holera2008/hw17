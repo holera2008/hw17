{
  "nbformat": 4,
  "nbformat_minor": 0,
  "metadata": {
    "colab": {
      "provenance": [],
      "authorship_tag": "ABX9TyOuljnKC0kfZJKrPs7yj7Lb",
      "include_colab_link": true
    },
    "kernelspec": {
      "name": "python3",
      "display_name": "Python 3"
    },
    "language_info": {
      "name": "python"
    }
  },
  "cells": [
    {
      "cell_type": "markdown",
      "metadata": {
        "id": "view-in-github",
        "colab_type": "text"
      },
      "source": [
        "<a href=\"https://colab.research.google.com/github/holera2008/hw17/blob/main/hw17.ipynb\" target=\"_parent\"><img src=\"https://colab.research.google.com/assets/colab-badge.svg\" alt=\"Open In Colab\"/></a>"
      ]
    },
    {
      "cell_type": "code",
      "execution_count": null,
      "metadata": {
        "colab": {
          "base_uri": "https://localhost:8080/"
        },
        "id": "h6K98uqDM--H",
        "outputId": "92dd1291-0edf-4692-9c41-4d9150752da1"
      },
      "outputs": [
        {
          "output_type": "stream",
          "name": "stdout",
          "text": [
            "[Cat(nickname='Mick', age=5, owner='Sara'), Cat(nickname='Barsik', age=7, owner='Olga'), Cat(nickname='Simon', age=3, owner='Yura')]\n"
          ]
        }
      ],
      "source": [
        "import collections\n",
        "\n",
        "Cat = collections.namedtuple(\"Cat\", [\"nickname\", \"age\", \"owner\"])\n",
        "\n",
        "def convert_list(cats):\n",
        "  result = []\n",
        "  a = isinstance(cats[0], tuple)\n",
        "  if a == True:\n",
        "    for cat in cats:\n",
        "      tuple_ =  {\"nickname\": cat.nickname, \"age\": cat.age, \"owner\": cat.owner}\n",
        "      result.append(tuple_)\n",
        "  else:\n",
        "    for cat in cats:\n",
        "      i = 0\n",
        "      named_ = Cat(list(cat.values())[0], list(cat.values())[1], list(cat.values())[2])\n",
        "      result.append(named_)\n",
        "  return result\n",
        "\n",
        "cats_ = [{\"nickname\": \"Mick\", \"age\": 5, \"owner\": \"Sara\"}, {\"nickname\": \"Barsik\", \"age\": 7, \"owner\": \"Olga\"}, {\"nickname\": \"Simon\", \"age\": 3, \"owner\": \"Yura\"}]\n",
        "print(convert_list(cats_))"
      ]
    }
  ]
}